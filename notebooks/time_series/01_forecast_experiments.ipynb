{
  "nbformat": 4,
  "nbformat_minor": 0,
  "metadata": {
    "colab": {
      "provenance": []
    },
    "kernelspec": {
      "name": "python3",
      "display_name": "Python 3"
    },
    "language_info": {
      "name": "python"
    }
  },
  "cells": [
    {
      "cell_type": "code",
      "execution_count": 18,
      "metadata": {
        "id": "Qa_b477HkALh"
      },
      "outputs": [],
      "source": [
        "import pandas as pd\n",
        "import numpy as np\n",
        "import matplotlib.pyplot as plt\n",
        "from prophet import Prophet\n",
        "from sklearn.metrics import mean_absolute_error\n",
        "import logging\n",
        "import warnings\n",
        "warnings.filterwarnings(\"ignore\")\n",
        "pd.set_option('display.max_columns', None)\n",
        "\n",
        "logging.basicConfig(level=logging.INFO, format=\"%(asctime)s [%(levelname)s] %(message)s\")\n",
        "logger = logging.getLogger(__name__)"
      ]
    },
    {
      "cell_type": "code",
      "source": [
        "df = pd.read_csv(\"/content/cleaned_bank.csv\")\n",
        "logger.info(f\"Loaded cleaned data: {df.shape}\")\n",
        "df.head()"
      ],
      "metadata": {
        "colab": {
          "base_uri": "https://localhost:8080/",
          "height": 226
        },
        "id": "CfZUegIclL8y",
        "outputId": "244e376a-f124-4a66-d6f1-579f19165c8f"
      },
      "execution_count": 33,
      "outputs": [
        {
          "output_type": "execute_result",
          "data": {
            "text/plain": [
              "    job  education  default  housing  loan  day_of_week  month  y  \\\n",
              "0   896      10679        0        0     0            2      5  0   \n",
              "1  3452       8281       -1        0     0            2      5  0   \n",
              "2  3452       8281        0        1     0            2      5  0   \n",
              "3  9107      10679        0        0     0            2      5  0   \n",
              "4  3452       8281        0        0     1            2      5  0   \n",
              "\n",
              "   dummy_telephone  dummy_nonexistent  dummy_success  marital_ordinal  \\\n",
              "0                1                  1              0                1   \n",
              "1                1                  1              0                1   \n",
              "2                1                  1              0                1   \n",
              "3                1                  1              0                1   \n",
              "4                1                  1              0                1   \n",
              "\n",
              "        age  duration  campaign     pdays  previous  emp.var.rate  \\\n",
              "0  1.694589  0.386969 -0.813041 -0.160978  -0.35466      0.660475   \n",
              "1  1.797914 -0.412615 -0.813041 -0.160978  -0.35466      0.660475   \n",
              "2 -0.268597  0.137099 -0.813041 -0.160978  -0.35466      0.660475   \n",
              "3  0.041380 -0.398337 -0.813041 -0.160978  -0.35466      0.660475   \n",
              "4  1.694589  0.715370 -0.813041 -0.160978  -0.35466      0.660475   \n",
              "\n",
              "   cons.price.idx  cons.conf.idx  euribor3m  nr.employed  \n",
              "0        0.741141        0.89177   0.720656     0.339946  \n",
              "1        0.741141        0.89177   0.720656     0.339946  \n",
              "2        0.741141        0.89177   0.720656     0.339946  \n",
              "3        0.741141        0.89177   0.720656     0.339946  \n",
              "4        0.741141        0.89177   0.720656     0.339946  "
            ],
            "text/html": [
              "\n",
              "  <div id=\"df-bcd66da8-8d08-4c30-b014-d0837a0b5757\" class=\"colab-df-container\">\n",
              "    <div>\n",
              "<style scoped>\n",
              "    .dataframe tbody tr th:only-of-type {\n",
              "        vertical-align: middle;\n",
              "    }\n",
              "\n",
              "    .dataframe tbody tr th {\n",
              "        vertical-align: top;\n",
              "    }\n",
              "\n",
              "    .dataframe thead th {\n",
              "        text-align: right;\n",
              "    }\n",
              "</style>\n",
              "<table border=\"1\" class=\"dataframe\">\n",
              "  <thead>\n",
              "    <tr style=\"text-align: right;\">\n",
              "      <th></th>\n",
              "      <th>job</th>\n",
              "      <th>education</th>\n",
              "      <th>default</th>\n",
              "      <th>housing</th>\n",
              "      <th>loan</th>\n",
              "      <th>day_of_week</th>\n",
              "      <th>month</th>\n",
              "      <th>y</th>\n",
              "      <th>dummy_telephone</th>\n",
              "      <th>dummy_nonexistent</th>\n",
              "      <th>dummy_success</th>\n",
              "      <th>marital_ordinal</th>\n",
              "      <th>age</th>\n",
              "      <th>duration</th>\n",
              "      <th>campaign</th>\n",
              "      <th>pdays</th>\n",
              "      <th>previous</th>\n",
              "      <th>emp.var.rate</th>\n",
              "      <th>cons.price.idx</th>\n",
              "      <th>cons.conf.idx</th>\n",
              "      <th>euribor3m</th>\n",
              "      <th>nr.employed</th>\n",
              "    </tr>\n",
              "  </thead>\n",
              "  <tbody>\n",
              "    <tr>\n",
              "      <th>0</th>\n",
              "      <td>896</td>\n",
              "      <td>10679</td>\n",
              "      <td>0</td>\n",
              "      <td>0</td>\n",
              "      <td>0</td>\n",
              "      <td>2</td>\n",
              "      <td>5</td>\n",
              "      <td>0</td>\n",
              "      <td>1</td>\n",
              "      <td>1</td>\n",
              "      <td>0</td>\n",
              "      <td>1</td>\n",
              "      <td>1.694589</td>\n",
              "      <td>0.386969</td>\n",
              "      <td>-0.813041</td>\n",
              "      <td>-0.160978</td>\n",
              "      <td>-0.35466</td>\n",
              "      <td>0.660475</td>\n",
              "      <td>0.741141</td>\n",
              "      <td>0.89177</td>\n",
              "      <td>0.720656</td>\n",
              "      <td>0.339946</td>\n",
              "    </tr>\n",
              "    <tr>\n",
              "      <th>1</th>\n",
              "      <td>3452</td>\n",
              "      <td>8281</td>\n",
              "      <td>-1</td>\n",
              "      <td>0</td>\n",
              "      <td>0</td>\n",
              "      <td>2</td>\n",
              "      <td>5</td>\n",
              "      <td>0</td>\n",
              "      <td>1</td>\n",
              "      <td>1</td>\n",
              "      <td>0</td>\n",
              "      <td>1</td>\n",
              "      <td>1.797914</td>\n",
              "      <td>-0.412615</td>\n",
              "      <td>-0.813041</td>\n",
              "      <td>-0.160978</td>\n",
              "      <td>-0.35466</td>\n",
              "      <td>0.660475</td>\n",
              "      <td>0.741141</td>\n",
              "      <td>0.89177</td>\n",
              "      <td>0.720656</td>\n",
              "      <td>0.339946</td>\n",
              "    </tr>\n",
              "    <tr>\n",
              "      <th>2</th>\n",
              "      <td>3452</td>\n",
              "      <td>8281</td>\n",
              "      <td>0</td>\n",
              "      <td>1</td>\n",
              "      <td>0</td>\n",
              "      <td>2</td>\n",
              "      <td>5</td>\n",
              "      <td>0</td>\n",
              "      <td>1</td>\n",
              "      <td>1</td>\n",
              "      <td>0</td>\n",
              "      <td>1</td>\n",
              "      <td>-0.268597</td>\n",
              "      <td>0.137099</td>\n",
              "      <td>-0.813041</td>\n",
              "      <td>-0.160978</td>\n",
              "      <td>-0.35466</td>\n",
              "      <td>0.660475</td>\n",
              "      <td>0.741141</td>\n",
              "      <td>0.89177</td>\n",
              "      <td>0.720656</td>\n",
              "      <td>0.339946</td>\n",
              "    </tr>\n",
              "    <tr>\n",
              "      <th>3</th>\n",
              "      <td>9107</td>\n",
              "      <td>10679</td>\n",
              "      <td>0</td>\n",
              "      <td>0</td>\n",
              "      <td>0</td>\n",
              "      <td>2</td>\n",
              "      <td>5</td>\n",
              "      <td>0</td>\n",
              "      <td>1</td>\n",
              "      <td>1</td>\n",
              "      <td>0</td>\n",
              "      <td>1</td>\n",
              "      <td>0.041380</td>\n",
              "      <td>-0.398337</td>\n",
              "      <td>-0.813041</td>\n",
              "      <td>-0.160978</td>\n",
              "      <td>-0.35466</td>\n",
              "      <td>0.660475</td>\n",
              "      <td>0.741141</td>\n",
              "      <td>0.89177</td>\n",
              "      <td>0.720656</td>\n",
              "      <td>0.339946</td>\n",
              "    </tr>\n",
              "    <tr>\n",
              "      <th>4</th>\n",
              "      <td>3452</td>\n",
              "      <td>8281</td>\n",
              "      <td>0</td>\n",
              "      <td>0</td>\n",
              "      <td>1</td>\n",
              "      <td>2</td>\n",
              "      <td>5</td>\n",
              "      <td>0</td>\n",
              "      <td>1</td>\n",
              "      <td>1</td>\n",
              "      <td>0</td>\n",
              "      <td>1</td>\n",
              "      <td>1.694589</td>\n",
              "      <td>0.715370</td>\n",
              "      <td>-0.813041</td>\n",
              "      <td>-0.160978</td>\n",
              "      <td>-0.35466</td>\n",
              "      <td>0.660475</td>\n",
              "      <td>0.741141</td>\n",
              "      <td>0.89177</td>\n",
              "      <td>0.720656</td>\n",
              "      <td>0.339946</td>\n",
              "    </tr>\n",
              "  </tbody>\n",
              "</table>\n",
              "</div>\n",
              "    <div class=\"colab-df-buttons\">\n",
              "\n",
              "  <div class=\"colab-df-container\">\n",
              "    <button class=\"colab-df-convert\" onclick=\"convertToInteractive('df-bcd66da8-8d08-4c30-b014-d0837a0b5757')\"\n",
              "            title=\"Convert this dataframe to an interactive table.\"\n",
              "            style=\"display:none;\">\n",
              "\n",
              "  <svg xmlns=\"http://www.w3.org/2000/svg\" height=\"24px\" viewBox=\"0 -960 960 960\">\n",
              "    <path d=\"M120-120v-720h720v720H120Zm60-500h600v-160H180v160Zm220 220h160v-160H400v160Zm0 220h160v-160H400v160ZM180-400h160v-160H180v160Zm440 0h160v-160H620v160ZM180-180h160v-160H180v160Zm440 0h160v-160H620v160Z\"/>\n",
              "  </svg>\n",
              "    </button>\n",
              "\n",
              "  <style>\n",
              "    .colab-df-container {\n",
              "      display:flex;\n",
              "      gap: 12px;\n",
              "    }\n",
              "\n",
              "    .colab-df-convert {\n",
              "      background-color: #E8F0FE;\n",
              "      border: none;\n",
              "      border-radius: 50%;\n",
              "      cursor: pointer;\n",
              "      display: none;\n",
              "      fill: #1967D2;\n",
              "      height: 32px;\n",
              "      padding: 0 0 0 0;\n",
              "      width: 32px;\n",
              "    }\n",
              "\n",
              "    .colab-df-convert:hover {\n",
              "      background-color: #E2EBFA;\n",
              "      box-shadow: 0px 1px 2px rgba(60, 64, 67, 0.3), 0px 1px 3px 1px rgba(60, 64, 67, 0.15);\n",
              "      fill: #174EA6;\n",
              "    }\n",
              "\n",
              "    .colab-df-buttons div {\n",
              "      margin-bottom: 4px;\n",
              "    }\n",
              "\n",
              "    [theme=dark] .colab-df-convert {\n",
              "      background-color: #3B4455;\n",
              "      fill: #D2E3FC;\n",
              "    }\n",
              "\n",
              "    [theme=dark] .colab-df-convert:hover {\n",
              "      background-color: #434B5C;\n",
              "      box-shadow: 0px 1px 3px 1px rgba(0, 0, 0, 0.15);\n",
              "      filter: drop-shadow(0px 1px 2px rgba(0, 0, 0, 0.3));\n",
              "      fill: #FFFFFF;\n",
              "    }\n",
              "  </style>\n",
              "\n",
              "    <script>\n",
              "      const buttonEl =\n",
              "        document.querySelector('#df-bcd66da8-8d08-4c30-b014-d0837a0b5757 button.colab-df-convert');\n",
              "      buttonEl.style.display =\n",
              "        google.colab.kernel.accessAllowed ? 'block' : 'none';\n",
              "\n",
              "      async function convertToInteractive(key) {\n",
              "        const element = document.querySelector('#df-bcd66da8-8d08-4c30-b014-d0837a0b5757');\n",
              "        const dataTable =\n",
              "          await google.colab.kernel.invokeFunction('convertToInteractive',\n",
              "                                                    [key], {});\n",
              "        if (!dataTable) return;\n",
              "\n",
              "        const docLinkHtml = 'Like what you see? Visit the ' +\n",
              "          '<a target=\"_blank\" href=https://colab.research.google.com/notebooks/data_table.ipynb>data table notebook</a>'\n",
              "          + ' to learn more about interactive tables.';\n",
              "        element.innerHTML = '';\n",
              "        dataTable['output_type'] = 'display_data';\n",
              "        await google.colab.output.renderOutput(dataTable, element);\n",
              "        const docLink = document.createElement('div');\n",
              "        docLink.innerHTML = docLinkHtml;\n",
              "        element.appendChild(docLink);\n",
              "      }\n",
              "    </script>\n",
              "  </div>\n",
              "\n",
              "\n",
              "    <div id=\"df-b5f7b2b2-bf31-4bfd-9003-ea9ff051e0e1\">\n",
              "      <button class=\"colab-df-quickchart\" onclick=\"quickchart('df-b5f7b2b2-bf31-4bfd-9003-ea9ff051e0e1')\"\n",
              "                title=\"Suggest charts\"\n",
              "                style=\"display:none;\">\n",
              "\n",
              "<svg xmlns=\"http://www.w3.org/2000/svg\" height=\"24px\"viewBox=\"0 0 24 24\"\n",
              "     width=\"24px\">\n",
              "    <g>\n",
              "        <path d=\"M19 3H5c-1.1 0-2 .9-2 2v14c0 1.1.9 2 2 2h14c1.1 0 2-.9 2-2V5c0-1.1-.9-2-2-2zM9 17H7v-7h2v7zm4 0h-2V7h2v10zm4 0h-2v-4h2v4z\"/>\n",
              "    </g>\n",
              "</svg>\n",
              "      </button>\n",
              "\n",
              "<style>\n",
              "  .colab-df-quickchart {\n",
              "      --bg-color: #E8F0FE;\n",
              "      --fill-color: #1967D2;\n",
              "      --hover-bg-color: #E2EBFA;\n",
              "      --hover-fill-color: #174EA6;\n",
              "      --disabled-fill-color: #AAA;\n",
              "      --disabled-bg-color: #DDD;\n",
              "  }\n",
              "\n",
              "  [theme=dark] .colab-df-quickchart {\n",
              "      --bg-color: #3B4455;\n",
              "      --fill-color: #D2E3FC;\n",
              "      --hover-bg-color: #434B5C;\n",
              "      --hover-fill-color: #FFFFFF;\n",
              "      --disabled-bg-color: #3B4455;\n",
              "      --disabled-fill-color: #666;\n",
              "  }\n",
              "\n",
              "  .colab-df-quickchart {\n",
              "    background-color: var(--bg-color);\n",
              "    border: none;\n",
              "    border-radius: 50%;\n",
              "    cursor: pointer;\n",
              "    display: none;\n",
              "    fill: var(--fill-color);\n",
              "    height: 32px;\n",
              "    padding: 0;\n",
              "    width: 32px;\n",
              "  }\n",
              "\n",
              "  .colab-df-quickchart:hover {\n",
              "    background-color: var(--hover-bg-color);\n",
              "    box-shadow: 0 1px 2px rgba(60, 64, 67, 0.3), 0 1px 3px 1px rgba(60, 64, 67, 0.15);\n",
              "    fill: var(--button-hover-fill-color);\n",
              "  }\n",
              "\n",
              "  .colab-df-quickchart-complete:disabled,\n",
              "  .colab-df-quickchart-complete:disabled:hover {\n",
              "    background-color: var(--disabled-bg-color);\n",
              "    fill: var(--disabled-fill-color);\n",
              "    box-shadow: none;\n",
              "  }\n",
              "\n",
              "  .colab-df-spinner {\n",
              "    border: 2px solid var(--fill-color);\n",
              "    border-color: transparent;\n",
              "    border-bottom-color: var(--fill-color);\n",
              "    animation:\n",
              "      spin 1s steps(1) infinite;\n",
              "  }\n",
              "\n",
              "  @keyframes spin {\n",
              "    0% {\n",
              "      border-color: transparent;\n",
              "      border-bottom-color: var(--fill-color);\n",
              "      border-left-color: var(--fill-color);\n",
              "    }\n",
              "    20% {\n",
              "      border-color: transparent;\n",
              "      border-left-color: var(--fill-color);\n",
              "      border-top-color: var(--fill-color);\n",
              "    }\n",
              "    30% {\n",
              "      border-color: transparent;\n",
              "      border-left-color: var(--fill-color);\n",
              "      border-top-color: var(--fill-color);\n",
              "      border-right-color: var(--fill-color);\n",
              "    }\n",
              "    40% {\n",
              "      border-color: transparent;\n",
              "      border-right-color: var(--fill-color);\n",
              "      border-top-color: var(--fill-color);\n",
              "    }\n",
              "    60% {\n",
              "      border-color: transparent;\n",
              "      border-right-color: var(--fill-color);\n",
              "    }\n",
              "    80% {\n",
              "      border-color: transparent;\n",
              "      border-right-color: var(--fill-color);\n",
              "      border-bottom-color: var(--fill-color);\n",
              "    }\n",
              "    90% {\n",
              "      border-color: transparent;\n",
              "      border-bottom-color: var(--fill-color);\n",
              "    }\n",
              "  }\n",
              "</style>\n",
              "\n",
              "      <script>\n",
              "        async function quickchart(key) {\n",
              "          const quickchartButtonEl =\n",
              "            document.querySelector('#' + key + ' button');\n",
              "          quickchartButtonEl.disabled = true;  // To prevent multiple clicks.\n",
              "          quickchartButtonEl.classList.add('colab-df-spinner');\n",
              "          try {\n",
              "            const charts = await google.colab.kernel.invokeFunction(\n",
              "                'suggestCharts', [key], {});\n",
              "          } catch (error) {\n",
              "            console.error('Error during call to suggestCharts:', error);\n",
              "          }\n",
              "          quickchartButtonEl.classList.remove('colab-df-spinner');\n",
              "          quickchartButtonEl.classList.add('colab-df-quickchart-complete');\n",
              "        }\n",
              "        (() => {\n",
              "          let quickchartButtonEl =\n",
              "            document.querySelector('#df-b5f7b2b2-bf31-4bfd-9003-ea9ff051e0e1 button');\n",
              "          quickchartButtonEl.style.display =\n",
              "            google.colab.kernel.accessAllowed ? 'block' : 'none';\n",
              "        })();\n",
              "      </script>\n",
              "    </div>\n",
              "\n",
              "    </div>\n",
              "  </div>\n"
            ],
            "application/vnd.google.colaboratory.intrinsic+json": {
              "type": "dataframe",
              "variable_name": "df"
            }
          },
          "metadata": {},
          "execution_count": 33
        }
      ]
    },
    {
      "cell_type": "code",
      "source": [
        "print(df['y'].value_counts(normalize=True))"
      ],
      "metadata": {
        "colab": {
          "base_uri": "https://localhost:8080/"
        },
        "id": "TlWO6N0hlXhP",
        "outputId": "b0c50391-7332-41be-c9c3-65af0381b286"
      },
      "execution_count": 34,
      "outputs": [
        {
          "output_type": "stream",
          "name": "stdout",
          "text": [
            "y\n",
            "0    0.919122\n",
            "1    0.080878\n",
            "Name: proportion, dtype: float64\n"
          ]
        }
      ]
    },
    {
      "cell_type": "code",
      "source": [
        "df['month'].value_counts()"
      ],
      "metadata": {
        "colab": {
          "base_uri": "https://localhost:8080/",
          "height": 429
        },
        "id": "hECh0UTov3Qe",
        "outputId": "de88b131-d63c-4dcd-f070-04274615f45f"
      },
      "execution_count": 35,
      "outputs": [
        {
          "output_type": "execute_result",
          "data": {
            "text/plain": [
              "month\n",
              "5     12159\n",
              "7      5881\n",
              "8      5317\n",
              "6      4507\n",
              "11     3707\n",
              "4      2306\n",
              "10      594\n",
              "3       467\n",
              "9       459\n",
              "12      138\n",
              "Name: count, dtype: int64"
            ],
            "text/html": [
              "<div>\n",
              "<style scoped>\n",
              "    .dataframe tbody tr th:only-of-type {\n",
              "        vertical-align: middle;\n",
              "    }\n",
              "\n",
              "    .dataframe tbody tr th {\n",
              "        vertical-align: top;\n",
              "    }\n",
              "\n",
              "    .dataframe thead th {\n",
              "        text-align: right;\n",
              "    }\n",
              "</style>\n",
              "<table border=\"1\" class=\"dataframe\">\n",
              "  <thead>\n",
              "    <tr style=\"text-align: right;\">\n",
              "      <th></th>\n",
              "      <th>count</th>\n",
              "    </tr>\n",
              "    <tr>\n",
              "      <th>month</th>\n",
              "      <th></th>\n",
              "    </tr>\n",
              "  </thead>\n",
              "  <tbody>\n",
              "    <tr>\n",
              "      <th>5</th>\n",
              "      <td>12159</td>\n",
              "    </tr>\n",
              "    <tr>\n",
              "      <th>7</th>\n",
              "      <td>5881</td>\n",
              "    </tr>\n",
              "    <tr>\n",
              "      <th>8</th>\n",
              "      <td>5317</td>\n",
              "    </tr>\n",
              "    <tr>\n",
              "      <th>6</th>\n",
              "      <td>4507</td>\n",
              "    </tr>\n",
              "    <tr>\n",
              "      <th>11</th>\n",
              "      <td>3707</td>\n",
              "    </tr>\n",
              "    <tr>\n",
              "      <th>4</th>\n",
              "      <td>2306</td>\n",
              "    </tr>\n",
              "    <tr>\n",
              "      <th>10</th>\n",
              "      <td>594</td>\n",
              "    </tr>\n",
              "    <tr>\n",
              "      <th>3</th>\n",
              "      <td>467</td>\n",
              "    </tr>\n",
              "    <tr>\n",
              "      <th>9</th>\n",
              "      <td>459</td>\n",
              "    </tr>\n",
              "    <tr>\n",
              "      <th>12</th>\n",
              "      <td>138</td>\n",
              "    </tr>\n",
              "  </tbody>\n",
              "</table>\n",
              "</div><br><label><b>dtype:</b> int64</label>"
            ]
          },
          "metadata": {},
          "execution_count": 35
        }
      ]
    },
    {
      "cell_type": "code",
      "source": [
        "# Cell 3: Prepare Time-Series (Fixed for Numeric 'month')\n",
        "print(\"Debug: df['month'] type:\", df['month'].dtype)\n",
        "print(\"Debug: df['month'] unique:\", df['month'].unique()[:10])\n",
        "\n",
        "# Check if 'month' is numeric (1-12); skip mapping if yes\n",
        "if df['month'].dtype in ['int64', 'float64']:\n",
        "    df['month_num'] = df['month'].astype(int)  # Already numeric\n",
        "    logger.info(\"'month' is numeric - skipping string mapping\")\n",
        "else:\n",
        "    # String case (fallback)\n",
        "    month_map = {'jan': 1, 'feb': 2, 'mar': 3, 'apr': 4, 'may': 5, 'jun': 6,\n",
        "                 'jul': 7, 'aug': 8, 'sep': 9, 'oct': 10, 'nov': 11, 'dec': 12}\n",
        "    df['month'] = df['month'].str.lower().str.strip()\n",
        "    df['month_num'] = df['month'].map(month_map)\n",
        "    df['month_num'].fillna(df['month_num'].mode()[0], inplace=True)\n",
        "\n",
        "print(\"Debug: month_num unique:\", df['month_num'].unique()[:10])\n",
        "print(\"Debug: month_num null count:\", df['month_num'].isnull().sum())\n",
        "\n",
        "# Create 'ds' (2017 assumption; use month_num directly)\n",
        "df['ds'] = pd.to_datetime('2017-' + df['month_num'].astype(str).str.zfill(2) + '-01')\n",
        "print(\"Debug: ds sample:\", df['ds'].head())\n",
        "print(\"Debug: y sum per ds sample:\", df.groupby('ds')['y'].sum().head(10))\n",
        "\n",
        "# Aggregate (ensure 'ds' is sorted)\n",
        "ts = df.groupby('ds')['y'].sum().reset_index()\n",
        "ts.columns = ['ds', 'y']\n",
        "ts['ds'] = pd.to_datetime(ts['ds'])\n",
        "ts = ts.sort_values('ds').reset_index(drop=True)  # Sort to avoid empty\n",
        "logger.info(f\"Time-series shape: {ts.shape}\")\n",
        "print(ts.head(10))\n",
        "\n",
        "if ts.empty:\n",
        "    raise ValueError(\"TS still empty - verify df has 'y' > 0 and valid 'month_num'\")"
      ],
      "metadata": {
        "colab": {
          "base_uri": "https://localhost:8080/"
        },
        "id": "Hl_A0WewlckJ",
        "outputId": "2c37194c-f8d5-4c98-bf8d-3bee730e0527"
      },
      "execution_count": 36,
      "outputs": [
        {
          "output_type": "stream",
          "name": "stdout",
          "text": [
            "Debug: df['month'] type: int64\n",
            "Debug: df['month'] unique: [ 5  6  7  8 10 11 12  3  4  9]\n",
            "Debug: month_num unique: [ 5  6  7  8 10 11 12  3  4  9]\n",
            "Debug: month_num null count: 0\n",
            "Debug: ds sample: 0   2017-05-01\n",
            "1   2017-05-01\n",
            "2   2017-05-01\n",
            "3   2017-05-01\n",
            "4   2017-05-01\n",
            "Name: ds, dtype: datetime64[ns]\n",
            "Debug: y sum per ds sample: ds\n",
            "2017-03-01    237\n",
            "2017-04-01    383\n",
            "2017-05-01    414\n",
            "2017-06-01    364\n",
            "2017-07-01    292\n",
            "2017-08-01    406\n",
            "2017-09-01    199\n",
            "2017-10-01    258\n",
            "2017-11-01    257\n",
            "2017-12-01     64\n",
            "Name: y, dtype: int64\n",
            "          ds    y\n",
            "0 2017-03-01  237\n",
            "1 2017-04-01  383\n",
            "2 2017-05-01  414\n",
            "3 2017-06-01  364\n",
            "4 2017-07-01  292\n",
            "5 2017-08-01  406\n",
            "6 2017-09-01  199\n",
            "7 2017-10-01  258\n",
            "8 2017-11-01  257\n",
            "9 2017-12-01   64\n"
          ]
        }
      ]
    },
    {
      "cell_type": "code",
      "source": [
        "split_date = ts['ds'].max() - pd.DateOffset(months=3)\n",
        "train = ts[ts['ds'] < split_date]\n",
        "test = ts[ts['ds'] >= split_date]\n",
        "logger.info(f\"Train: {len(train)} periods, Test: {len(test)} periods\")\n",
        "print(f\"Split date: {split_date}\")"
      ],
      "metadata": {
        "colab": {
          "base_uri": "https://localhost:8080/"
        },
        "id": "VkhVNqUxljbI",
        "outputId": "ebd2227d-9760-4a02-bd99-d104e2a7e551"
      },
      "execution_count": 37,
      "outputs": [
        {
          "output_type": "stream",
          "name": "stdout",
          "text": [
            "Split date: 2017-09-01 00:00:00\n"
          ]
        }
      ]
    },
    {
      "cell_type": "code",
      "source": [
        "from prophet import Prophet\n",
        "m = Prophet(\n",
        "    changepoint_prior_scale=0.05,  # Tune for flexibility on trends\n",
        "    seasonality_mode='additive'    # Additive for subscriptions (non-multiplicative)\n",
        ")\n",
        "m.fit(train)\n",
        "logger.info(\"Prophet model fitted\")\n",
        "\n",
        "future = m.make_future_dataframe(periods=len(test))\n",
        "forecast = m.predict(future)\n",
        "logger.info(\"Forecast generated\")"
      ],
      "metadata": {
        "colab": {
          "base_uri": "https://localhost:8080/"
        },
        "id": "KBUZCc0wloBO",
        "outputId": "c534edd3-b2a2-4e8a-f3e6-5b5eb2274475"
      },
      "execution_count": 50,
      "outputs": [
        {
          "output_type": "stream",
          "name": "stderr",
          "text": [
            "INFO:prophet:Disabling yearly seasonality. Run prophet with yearly_seasonality=True to override this.\n",
            "INFO:prophet:Disabling weekly seasonality. Run prophet with weekly_seasonality=True to override this.\n",
            "INFO:prophet:Disabling daily seasonality. Run prophet with daily_seasonality=True to override this.\n",
            "INFO:prophet:n_changepoints greater than number of observations. Using 3.\n",
            "DEBUG:cmdstanpy:input tempfile: /tmp/tmpx8ppksjt/1cxcrphg.json\n",
            "DEBUG:cmdstanpy:input tempfile: /tmp/tmpx8ppksjt/lwo2suat.json\n",
            "DEBUG:cmdstanpy:idx 0\n",
            "DEBUG:cmdstanpy:running CmdStan, num_threads: None\n",
            "DEBUG:cmdstanpy:CmdStan args: ['/usr/local/lib/python3.12/dist-packages/prophet/stan_model/prophet_model.bin', 'random', 'seed=59875', 'data', 'file=/tmp/tmpx8ppksjt/1cxcrphg.json', 'init=/tmp/tmpx8ppksjt/lwo2suat.json', 'output', 'file=/tmp/tmpx8ppksjt/prophet_modelk04d1u1v/prophet_model-20250916182911.csv', 'method=optimize', 'algorithm=newton', 'iter=10000']\n",
            "18:29:11 - cmdstanpy - INFO - Chain [1] start processing\n",
            "INFO:cmdstanpy:Chain [1] start processing\n",
            "18:29:11 - cmdstanpy - INFO - Chain [1] done processing\n",
            "INFO:cmdstanpy:Chain [1] done processing\n"
          ]
        }
      ]
    },
    {
      "cell_type": "code",
      "source": [
        "plt.figure(figsize=(12, 6))\n",
        "m.plot(forecast)\n",
        "plt.axvline(split_date, color='red', linestyle='--', label='Test Split')\n",
        "plt.title('Prophet Forecast for Monthly Subscriptions')\n",
        "plt.xlabel('Date')\n",
        "plt.ylabel('Subscriptions (y)')\n",
        "plt.legend()\n",
        "plt.show()"
      ],
      "metadata": {
        "colab": {
          "base_uri": "https://localhost:8080/",
          "height": 647
        },
        "id": "Fbw-vYwsws5Z",
        "outputId": "e0d0f95c-fb40-4b70-a86c-93f50db71f3a"
      },
      "execution_count": 51,
      "outputs": [
        {
          "output_type": "display_data",
          "data": {
            "text/plain": [
              "<Figure size 1200x600 with 0 Axes>"
            ]
          },
          "metadata": {}
        },
        {
          "output_type": "display_data",
          "data": {
            "text/plain": [
              "<Figure size 1000x600 with 1 Axes>"
            ],
            "image/png": "[encoded data removed]"
          },
          "metadata": {}
        }
      ]
    },
    {
      "cell_type": "code",
      "source": [
        "from sklearn.metrics import mean_absolute_error, mean_squared_error\n",
        "y_pred = forecast['yhat'].tail(len(test)).values\n",
        "y_actual = test['y'].values\n",
        "mae = mean_absolute_error(y_actual, y_pred)\n",
        "rmse = np.sqrt(mean_squared_error(y_actual, y_pred))\n",
        "print(f\"MAE on Test: {mae:.2f}\")\n",
        "print(f\"RMSE on Test: {rmse:.2f}\")"
      ],
      "metadata": {
        "colab": {
          "base_uri": "https://localhost:8080/"
        },
        "id": "D7xc9g_5tSVU",
        "outputId": "52c90aa1-7997-4f64-e202-7ecbcae871f6"
      },
      "execution_count": 53,
      "outputs": [
        {
          "output_type": "stream",
          "name": "stdout",
          "text": [
            "MAE on Test: 193.52\n",
            "RMSE on Test: 209.16\n"
          ]
        }
      ]
    },
    {
      "cell_type": "code",
      "source": [
        "# Residual plot\n",
        "plt.figure(figsize=(10, 5))\n",
        "plt.plot(test['ds'], y_actual - y_pred, label='Residuals', marker='o')\n",
        "plt.axhline(0, color='black', linestyle='-', alpha=0.5)\n",
        "plt.title('Prophet Residuals (Test Period)')\n",
        "plt.xlabel('Date')\n",
        "plt.ylabel('Residual')\n",
        "plt.legend()\n",
        "plt.show()\n",
        "logger.info(f\"Evaluation complete: MAE={mae:.2f}, RMSE={rmse:.2f}\")"
      ],
      "metadata": {
        "colab": {
          "base_uri": "https://localhost:8080/",
          "height": 487
        },
        "id": "LLbrFoJIxqDN",
        "outputId": "475f8fae-cb36-4e42-af3d-6d28090aa763"
      },
      "execution_count": 54,
      "outputs": [
        {
          "output_type": "display_data",
          "data": {
            "text/plain": [
              "<Figure size 1000x500 with 1 Axes>"
            ],
            "image/png": "[encoded data removed]"
          },
          "metadata": {}
        }
      ]
    },
    {
      "cell_type": "code",
      "source": [
        "future_trend = forecast['yhat'].tail(4).mean()  # Next 4 months avg\n",
        "train_mean = train['y'].mean()\n",
        "test_mean = test['y'].mean()\n",
        "\n",
        "if future_trend > test_mean:\n",
        "    insight = \"Rising trend in subscriptions → Recommend scaling campaigns (e.g., increase budget 20% in high-engagement months).\"\n",
        "elif future_trend < train_mean:\n",
        "    insight = \"Declining/volatile trend → Optimize: Focus on top audiences from EDA (e.g., management jobs) and reduce low-duration campaigns.\"\n",
        "else:\n",
        "    insight = \"Stable trend → Maintain current allocation, test A/B on channels like 'cellular'.\"\n",
        "\n",
        "print(f\"Strategy Insight: {insight}\")\n",
        "print(f\"Future avg forecast: {future_trend:.0f} vs. Test mean: {test_mean:.0f}\")"
      ],
      "metadata": {
        "colab": {
          "base_uri": "https://localhost:8080/"
        },
        "id": "UzRjD-nzx6Vu",
        "outputId": "9a1bdf2f-81b3-4c24-f60d-41b6300769f8"
      },
      "execution_count": 55,
      "outputs": [
        {
          "output_type": "stream",
          "name": "stdout",
          "text": [
            "Strategy Insight: Rising trend in subscriptions → Recommend scaling campaigns (e.g., increase budget 20% in high-engagement months).\n",
            "Future avg forecast: 388 vs. Test mean: 194\n"
          ]
        }
      ]
    },
    {
      "cell_type": "code",
      "source": [
        "future_trend = forecast['yhat'].tail(4).mean()\n",
        "if future_trend > train['y'].mean():\n",
        "    print(\"Trend: Increasing subscriptions → Recommend scaling campaigns.\")\n",
        "else:\n",
        "    print(\"Trend: Stable/declining → Focus on high-value audiences.\")"
      ],
      "metadata": {
        "colab": {
          "base_uri": "https://localhost:8080/"
        },
        "id": "xqtR1ozFyBTT",
        "outputId": "956382b6-d42c-4c07-ee67-6320794202c4"
      },
      "execution_count": 56,
      "outputs": [
        {
          "output_type": "stream",
          "name": "stdout",
          "text": [
            "Trend: Increasing subscriptions → Recommend scaling campaigns.\n"
          ]
        }
      ]
    },
    {
      "cell_type": "code",
      "source": [
        "plt.figure(figsize=(10, 5))\n",
        "plt.plot(test['ds'], test['y'], label='Actual', marker='o')\n",
        "plt.plot(test['ds'], y_pred, label='Prophet Forecast', marker='s')\n",
        "plt.title('Forecast vs Actual (Test)')\n",
        "plt.xlabel('Date')\n",
        "plt.ylabel('Subscriptions')\n",
        "plt.legend()\n",
        "plt.show()"
      ],
      "metadata": {
        "colab": {
          "base_uri": "https://localhost:8080/",
          "height": 487
        },
        "id": "DPyOw5IJz84m",
        "outputId": "6617fe1a-b2f4-4629-c5a7-4033a423b2a3"
      },
      "execution_count": 59,
      "outputs": [
        {
          "output_type": "display_data",
          "data": {
            "text/plain": [
              "<Figure size 1000x500 with 1 Axes>"
            ],
            "image/png": "[encoded data removed]"
          },
          "metadata": {}
        }
      ]
    },
    {
      "cell_type": "code",
      "source": [
        "# Save processed TS for project use\n",
        "ts.to_csv('bank_ts.csv', index=False)\n",
        "forecast.to_csv('bank_forecast.csv', index=False)\n",
        "logger.info(\"Forecast experiment complete - TS and forecast saved\")"
      ],
      "metadata": {
        "id": "GCW3dQi80RoV"
      },
      "execution_count": 61,
      "outputs": []
    },
    {
      "cell_type": "code",
      "source": [],
      "metadata": {
        "id": "6d431ggB0qwi"
      },
      "execution_count": null,
      "outputs": []
    }
  ]
}